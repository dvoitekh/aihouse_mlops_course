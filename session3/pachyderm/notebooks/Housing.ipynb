{
 "cells": [
  {
   "cell_type": "markdown",
   "id": "069bce3f-7ee3-480c-aefc-64674d4047d2",
   "metadata": {},
   "source": [
    "# Housing prices Pachyderm pipeline"
   ]
  },
  {
   "cell_type": "code",
   "execution_count": 1,
   "id": "043e98bc-b610-4d01-bbee-754da5a153c9",
   "metadata": {},
   "outputs": [
    {
     "name": "stdout",
     "output_type": "stream",
     "text": [
      "/home/ubuntu/dvoitekh/aihouse_mlops_course/session3/pachyderm\n"
     ]
    }
   ],
   "source": [
    "cd .."
   ]
  },
  {
   "cell_type": "markdown",
   "id": "c4bf07d6-3107-44cd-ab72-c518e4505658",
   "metadata": {},
   "source": [
    "## Optional. Build Docker image and push to thre registry\n",
    "If you don't want to build your own image just proceed to the next step to use already available image"
   ]
  },
  {
   "cell_type": "code",
   "execution_count": 4,
   "id": "be37899f-a864-4b94-98de-da8b8a58f6f3",
   "metadata": {},
   "outputs": [],
   "source": [
    "!eval $(minikube docker-env)\n",
    "!docker build -t housing-prices-pachyderm:0.0.1 ."
   ]
  },
  {
   "cell_type": "markdown",
   "id": "9f809811-250a-421a-b13b-9fe96d948608",
   "metadata": {},
   "source": [
    "### split data into 2 parts"
   ]
  },
  {
   "cell_type": "code",
   "execution_count": 5,
   "id": "a4b1e5dd-6ee1-42e8-b58e-c8081f97f75c",
   "metadata": {},
   "outputs": [],
   "source": [
    "import pandas as pd\n",
    "\n",
    "data = pd.read_parquet('../data/house_dataset_main.parquet')\n",
    "data1 = data[:len(data) // 2]\n",
    "data2 = data[len(data) // 2:]\n",
    "data1.to_parquet('housing1.parquet', index=False)\n",
    "data2.to_parquet('housing2.parquet', index=False)"
   ]
  },
  {
   "cell_type": "markdown",
   "id": "ad9d4ffd-64cd-4e68-8521-a64a6f59748e",
   "metadata": {},
   "source": [
    "## Create a data repo and fill it with data"
   ]
  },
  {
   "cell_type": "code",
   "execution_count": 6,
   "id": "6e78b87f-9d91-4b46-9ba5-30297948b362",
   "metadata": {},
   "outputs": [],
   "source": [
    "!pachctl create repo housing_data"
   ]
  },
  {
   "cell_type": "code",
   "execution_count": 7,
   "id": "39f19f7b-cf26-4b94-87bc-4af6e17a40e3",
   "metadata": {},
   "outputs": [
    {
     "name": "stdout",
     "output_type": "stream",
     "text": [
      "housing1.parquet 556.21 KB / 556.21 KB [===========================] 0s 0.00 b/s\n",
      "\u001b[1A\u001b[Jhousing1.parquet 556.21 KB / 556.21 KB [===========================] 0s 0.00 b/s\n",
      "\u001b[1A\u001b[Jhousing1.parquet 556.21 KB / 556.21 KB [===========================] 0s 0.00 b/s\n"
     ]
    }
   ],
   "source": [
    "!pachctl put file housing_data@master:housing1.parquet -f housing1.parquet"
   ]
  },
  {
   "cell_type": "code",
   "execution_count": 8,
   "id": "1c4ed9e9-4e28-4b5a-9a8c-0bc88a79dc86",
   "metadata": {},
   "outputs": [
    {
     "name": "stdout",
     "output_type": "stream",
     "text": [
      "NAME              TYPE SIZE     \n",
      "/housing1.parquet file 543.2KiB \n"
     ]
    }
   ],
   "source": [
    "!pachctl list file housing_data@master"
   ]
  },
  {
   "cell_type": "markdown",
   "id": "ef22f10a-d742-4576-b976-6cbf7e4cfd99",
   "metadata": {},
   "source": [
    "## Deploy 2 pipelines that are executed sequentially:\n",
    "1. Feature generation pipeline\n",
    "2. EDA pipeline"
   ]
  },
  {
   "cell_type": "code",
   "execution_count": 9,
   "id": "335e2b46-12d5-49e8-a167-f554bfb15147",
   "metadata": {},
   "outputs": [],
   "source": [
    "!pachctl create pipeline -f manifests/extract_features_pipeline.json"
   ]
  },
  {
   "cell_type": "code",
   "execution_count": 10,
   "id": "aa876358-eb02-43b7-b159-03928a26d7e5",
   "metadata": {},
   "outputs": [],
   "source": [
    "!pachctl create pipeline -f manifests/eda_pipeline.json"
   ]
  },
  {
   "cell_type": "markdown",
   "id": "78b2e11e-0aeb-4416-9c2d-09b0b25d942d",
   "metadata": {},
   "source": [
    "Pipelines repos are automatically created"
   ]
  },
  {
   "cell_type": "code",
   "execution_count": 11,
   "id": "bb854690-9ee2-4795-9156-fe70141a1014",
   "metadata": {},
   "outputs": [
    {
     "name": "stdout",
     "output_type": "stream",
     "text": [
      "NAME                     CREATED       SIZE (MASTER) DESCRIPTION                                        \n",
      "housing_eda              1 second ago  ≤ 0B          Output repo for pipeline housing_eda.              \n",
      "housing_extract_features 2 seconds ago ≤ 0B          Output repo for pipeline housing_extract_features. \n",
      "housing_data             5 seconds ago ≤ 543.2KiB                                                       \n"
     ]
    }
   ],
   "source": [
    "!pachctl list repo"
   ]
  },
  {
   "cell_type": "code",
   "execution_count": 13,
   "id": "27ac8c4b-b29d-4e6d-9bce-0989709e8820",
   "metadata": {},
   "outputs": [
    {
     "name": "stdout",
     "output_type": "stream",
     "text": [
      "NAME                     VERSION INPUT                      CREATED       STATE / LAST JOB   DESCRIPTION                                                   \n",
      "housing_eda              1       housing_extract_features:/ 5 seconds ago \u001b[32mrunning\u001b[0m / \u001b[33mstarting\u001b[0m A pipeline that performs EDA for the housing dataset features \n",
      "housing_extract_features 1       housing_data:/             6 seconds ago \u001b[32mrunning\u001b[0m / \u001b[33mrunning\u001b[0m  A pipeline that preprocesses housing dataset                  \n"
     ]
    }
   ],
   "source": [
    "!pachctl list pipeline"
   ]
  },
  {
   "cell_type": "markdown",
   "id": "34d52f19-c5a4-4a5d-9b20-381b35024943",
   "metadata": {},
   "source": [
    "### View pipeline logs"
   ]
  },
  {
   "cell_type": "markdown",
   "id": "9cabde9e-7a9c-4640-ae0b-01bb7339c7c3",
   "metadata": {},
   "source": [
    "Check k8s workers that were created"
   ]
  },
  {
   "cell_type": "code",
   "execution_count": 14,
   "id": "0f3f052d-3a0f-47fe-a996-4d3f61b942f4",
   "metadata": {},
   "outputs": [
    {
     "name": "stdout",
     "output_type": "stream",
     "text": [
      "pipeline-housing-eda-v1-d2zpj                2/2     Running   0          9s\n",
      "pipeline-housing-extract-features-v1-h7dcc   2/2     Running   0          10s\n"
     ]
    }
   ],
   "source": [
    "!kubectl get po -n pachyderm | grep housing"
   ]
  },
  {
   "cell_type": "markdown",
   "id": "eaa4fbeb-f4cd-4b80-9886-fb0ae593ecfd",
   "metadata": {},
   "source": [
    "and k8s logs"
   ]
  },
  {
   "cell_type": "code",
   "execution_count": 10,
   "id": "9c3f36e9-84f8-4ba0-9c3c-562bb1cf41ac",
   "metadata": {},
   "outputs": [],
   "source": [
    "!kubectl logs pipeline-housing-extract-features-v1-gcdcc -n pachyderm"
   ]
  },
  {
   "cell_type": "markdown",
   "id": "a41dfbe9-f183-41bc-a4e6-77a96d4288b3",
   "metadata": {},
   "source": [
    "logs in a more friendly format"
   ]
  },
  {
   "cell_type": "code",
   "execution_count": 15,
   "id": "5b1be6ed-adc5-4452-b274-a46a492d8b70",
   "metadata": {},
   "outputs": [
    {
     "name": "stdout",
     "output_type": "stream",
     "text": [
      "start feature generation job\n",
      "input files: ['/pfs/housing_data/housing1.parquet']\n"
     ]
    }
   ],
   "source": [
    "!pachctl logs --pipeline=housing_extract_features"
   ]
  },
  {
   "cell_type": "code",
   "execution_count": 16,
   "id": "638df011-86fd-4f9f-a349-ecac10e829f7",
   "metadata": {},
   "outputs": [
    {
     "name": "stdout",
     "output_type": "stream",
     "text": [
      "start eda job\n",
      "input files: ['/pfs/housing_extract_features/features_2a1bd07439054ccf6ef95e8149a31386.parquet']\n"
     ]
    }
   ],
   "source": [
    "!pachctl logs --pipeline=housing_eda"
   ]
  },
  {
   "cell_type": "code",
   "execution_count": 17,
   "id": "681a118c-607d-4f82-ac17-495b5aa49f62",
   "metadata": {},
   "outputs": [
    {
     "name": "stdout",
     "output_type": "stream",
     "text": [
      "PIPELINE    ID                               STARTED        DURATION RESTART PROGRESS  DL UL STATE   \n",
      "housing_eda f78c9231a1f1405890e09f96bb15da9a 11 seconds ago -        0       0 + 0 / 1 0B 0B \u001b[33mrunning\u001b[0m \n"
     ]
    }
   ],
   "source": [
    "!pachctl list jobs -p housing_eda"
   ]
  },
  {
   "cell_type": "code",
   "execution_count": 18,
   "id": "7111a2a3-6638-4a4a-baa9-56d1592e335d",
   "metadata": {},
   "outputs": [
    {
     "name": "stdout",
     "output_type": "stream",
     "text": [
      "NAME                                               TYPE SIZE     \n",
      "/features_2a1bd07439054ccf6ef95e8149a31386.parquet file 397.1KiB \n"
     ]
    }
   ],
   "source": [
    "!pachctl list file housing_extract_features@master"
   ]
  },
  {
   "cell_type": "code",
   "execution_count": 20,
   "id": "a05cf1c6-1008-4108-8a32-be9611bd73a1",
   "metadata": {},
   "outputs": [
    {
     "name": "stdout",
     "output_type": "stream",
     "text": [
      "NAME                                               TYPE SIZE     \n",
      "/eda_profile_6d3be99c29794813b7659abad2e41e2c.html file 3.082MiB \n"
     ]
    }
   ],
   "source": [
    "!pachctl list files housing_eda@master"
   ]
  },
  {
   "cell_type": "markdown",
   "id": "313bb847-a8af-42c3-926d-ea7137b0b42c",
   "metadata": {},
   "source": [
    "### Let's check the preprocessed dataset"
   ]
  },
  {
   "cell_type": "code",
   "execution_count": 24,
   "id": "cd1e860d-b69d-49ba-b0ca-c68501670288",
   "metadata": {},
   "outputs": [],
   "source": [
    "!pachctl get file housing_extract_features@master --recursive --output ."
   ]
  },
  {
   "cell_type": "code",
   "execution_count": 25,
   "id": "bc30d296-c9e3-4835-8225-4846bbe8b8d5",
   "metadata": {},
   "outputs": [
    {
     "data": {
      "text/html": [
       "<div>\n",
       "<style scoped>\n",
       "    .dataframe tbody tr th:only-of-type {\n",
       "        vertical-align: middle;\n",
       "    }\n",
       "\n",
       "    .dataframe tbody tr th {\n",
       "        vertical-align: top;\n",
       "    }\n",
       "\n",
       "    .dataframe thead th {\n",
       "        text-align: right;\n",
       "    }\n",
       "</style>\n",
       "<table border=\"1\" class=\"dataframe\">\n",
       "  <thead>\n",
       "    <tr style=\"text-align: right;\">\n",
       "      <th></th>\n",
       "      <th>MedInc</th>\n",
       "      <th>HouseAge</th>\n",
       "      <th>AveRooms</th>\n",
       "      <th>AveBedrms</th>\n",
       "      <th>Population</th>\n",
       "      <th>AveOccup</th>\n",
       "      <th>MedHouseVal</th>\n",
       "    </tr>\n",
       "  </thead>\n",
       "  <tbody>\n",
       "    <tr>\n",
       "      <th>0</th>\n",
       "      <td>2.4792</td>\n",
       "      <td>24.0</td>\n",
       "      <td>3.454704</td>\n",
       "      <td>1.134146</td>\n",
       "      <td>2251.0</td>\n",
       "      <td>3.921603</td>\n",
       "      <td>2.000</td>\n",
       "    </tr>\n",
       "    <tr>\n",
       "      <th>1</th>\n",
       "      <td>3.4630</td>\n",
       "      <td>8.0</td>\n",
       "      <td>6.363636</td>\n",
       "      <td>1.166297</td>\n",
       "      <td>1307.0</td>\n",
       "      <td>2.898004</td>\n",
       "      <td>2.017</td>\n",
       "    </tr>\n",
       "    <tr>\n",
       "      <th>2</th>\n",
       "      <td>3.7500</td>\n",
       "      <td>16.0</td>\n",
       "      <td>5.768719</td>\n",
       "      <td>1.023295</td>\n",
       "      <td>1478.0</td>\n",
       "      <td>2.459235</td>\n",
       "      <td>1.473</td>\n",
       "    </tr>\n",
       "    <tr>\n",
       "      <th>3</th>\n",
       "      <td>2.8542</td>\n",
       "      <td>34.0</td>\n",
       "      <td>3.858779</td>\n",
       "      <td>1.045802</td>\n",
       "      <td>1164.0</td>\n",
       "      <td>4.442748</td>\n",
       "      <td>1.469</td>\n",
       "    </tr>\n",
       "    <tr>\n",
       "      <th>4</th>\n",
       "      <td>1.3375</td>\n",
       "      <td>18.0</td>\n",
       "      <td>4.567625</td>\n",
       "      <td>1.087327</td>\n",
       "      <td>2707.0</td>\n",
       "      <td>2.882854</td>\n",
       "      <td>0.596</td>\n",
       "    </tr>\n",
       "  </tbody>\n",
       "</table>\n",
       "</div>"
      ],
      "text/plain": [
       "   MedInc  HouseAge  AveRooms  AveBedrms  Population  AveOccup  MedHouseVal\n",
       "0  2.4792      24.0  3.454704   1.134146      2251.0  3.921603        2.000\n",
       "1  3.4630       8.0  6.363636   1.166297      1307.0  2.898004        2.017\n",
       "2  3.7500      16.0  5.768719   1.023295      1478.0  2.459235        1.473\n",
       "3  2.8542      34.0  3.858779   1.045802      1164.0  4.442748        1.469\n",
       "4  1.3375      18.0  4.567625   1.087327      2707.0  2.882854        0.596"
      ]
     },
     "execution_count": 25,
     "metadata": {},
     "output_type": "execute_result"
    }
   ],
   "source": [
    "import pandas as pd\n",
    "pd.read_parquet('features_2a1bd07439054ccf6ef95e8149a31386.parquet').head()"
   ]
  },
  {
   "cell_type": "markdown",
   "id": "cf4741e9-8872-47c1-bc0e-eae4529e9378",
   "metadata": {},
   "source": [
    "### We can check the EDA report now"
   ]
  },
  {
   "cell_type": "code",
   "execution_count": 27,
   "id": "8fc0a9d4-fea6-4e51-8b3a-dfd9dcdda1c8",
   "metadata": {},
   "outputs": [],
   "source": [
    "!pachctl get file housing_eda@master --recursive --output ."
   ]
  },
  {
   "cell_type": "code",
   "execution_count": 46,
   "id": "fb4de1f1-4631-45c5-ae98-f95bc1851b4c",
   "metadata": {
    "tags": []
   },
   "outputs": [],
   "source": [
    "from IPython.core.display import display, HTML\n",
    "from pathlib import Path\n",
    "html = Path('eda_profile_6d3be99c29794813b7659abad2e41e2c.html').read_text()\n",
    "display(HTML(html))"
   ]
  },
  {
   "cell_type": "markdown",
   "id": "8a41caaf-cf6f-41eb-8d66-9762b11ce25b",
   "metadata": {},
   "source": [
    "### Also, let's see commits and data that is included"
   ]
  },
  {
   "cell_type": "code",
   "execution_count": 21,
   "id": "821510d8-e4a4-440e-85d6-789d95dc0aa6",
   "metadata": {},
   "outputs": [
    {
     "name": "stdout",
     "output_type": "stream",
     "text": [
      "REPO        BRANCH COMMIT                           FINISHED       SIZE     ORIGIN DESCRIPTION\n",
      "housing_eda master f78c9231a1f1405890e09f96bb15da9a 24 seconds ago 3.082MiB AUTO    \n"
     ]
    }
   ],
   "source": [
    "!pachctl list commit housing_eda@master"
   ]
  },
  {
   "cell_type": "code",
   "execution_count": 23,
   "id": "6a560c13-1641-4f4e-820c-7fed2e0682cd",
   "metadata": {},
   "outputs": [
    {
     "name": "stdout",
     "output_type": "stream",
     "text": [
      "REPO                          BRANCH COMMIT                           FINISHED       SIZE     ORIGIN DESCRIPTION\n",
      "housing_eda.spec              master f78c9231a1f1405890e09f96bb15da9a 53 seconds ago 0B       USER    \n",
      "housing_extract_features.spec master f78c9231a1f1405890e09f96bb15da9a 53 seconds ago 0B       ALIAS   \n",
      "housing_data                  master f78c9231a1f1405890e09f96bb15da9a 53 seconds ago 543.2KiB ALIAS   \n",
      "housing_eda                   master f78c9231a1f1405890e09f96bb15da9a 32 seconds ago 3.082MiB AUTO    \n",
      "housing_eda.meta              master f78c9231a1f1405890e09f96bb15da9a 32 seconds ago 3.47MiB  AUTO    \n",
      "housing_extract_features.meta master f78c9231a1f1405890e09f96bb15da9a 47 seconds ago 941KiB   ALIAS   \n",
      "housing_extract_features      master f78c9231a1f1405890e09f96bb15da9a 47 seconds ago 397.1KiB ALIAS   \n"
     ]
    }
   ],
   "source": [
    "!pachctl list commit f78c9231a1f1405890e09f96bb15da9a"
   ]
  },
  {
   "cell_type": "markdown",
   "id": "138535b6-368d-4482-9777-22403e444701",
   "metadata": {},
   "source": [
    "### Let's add another data file"
   ]
  },
  {
   "cell_type": "code",
   "execution_count": 24,
   "id": "67661eaf-dd98-44d3-bc8b-0655752edf74",
   "metadata": {},
   "outputs": [
    {
     "name": "stdout",
     "output_type": "stream",
     "text": [
      "housing2.parquet 553.16 KB / 553.16 KB [===========================] 0s 0.00 b/s\n",
      "\u001b[1A\u001b[Jhousing2.parquet 553.16 KB / 553.16 KB [===========================] 0s 0.00 b/s\n"
     ]
    }
   ],
   "source": [
    "!pachctl put file housing_data@master:housing2.parquet -f housing2.parquet"
   ]
  },
  {
   "cell_type": "code",
   "execution_count": 25,
   "id": "564cde91-37bf-4417-be30-e4988533c583",
   "metadata": {},
   "outputs": [
    {
     "name": "stdout",
     "output_type": "stream",
     "text": [
      "NAME              TYPE SIZE     \n",
      "/housing1.parquet file 543.2KiB \n",
      "/housing2.parquet file 540.2KiB \n"
     ]
    }
   ],
   "source": [
    "!pachctl list file housing_data@master"
   ]
  },
  {
   "cell_type": "code",
   "execution_count": 35,
   "id": "fbc671bc-25db-4e9f-8ab0-c5b096a433fa",
   "metadata": {},
   "outputs": [
    {
     "name": "stdout",
     "output_type": "stream",
     "text": [
      "start feature generation job\n",
      "input files: ['/pfs/housing_data/housing1.parquet']\n",
      "start feature generation job\n",
      "input files: ['/pfs/housing_data/housing1.parquet', '/pfs/housing_data/housing2.parquet']\n"
     ]
    }
   ],
   "source": [
    "!pachctl logs --pipeline=housing_extract_features"
   ]
  },
  {
   "cell_type": "code",
   "execution_count": 26,
   "id": "f4bafa78-1c85-4c5b-93df-6e2283235fd8",
   "metadata": {},
   "outputs": [
    {
     "name": "stdout",
     "output_type": "stream",
     "text": [
      "PIPELINE                 ID                               STARTED        DURATION           RESTART PROGRESS  DL       UL       STATE   \n",
      "housing_extract_features e40d882420e94d2f8950ce1bda65c489 2 seconds ago  1 second           0       1 + 0 / 1 1.058MiB 740.7KiB \u001b[32msuccess\u001b[0m \n",
      "housing_extract_features 23a9c1d8b35c456392f9d9df69d2669b 53 seconds ago Less than a second 0       1 + 0 / 1 543.2KiB 397.1KiB \u001b[32msuccess\u001b[0m \n"
     ]
    }
   ],
   "source": [
    "!pachctl list job -p housing_extract_features"
   ]
  },
  {
   "cell_type": "code",
   "execution_count": 27,
   "id": "d8d514db-66d9-423b-b4bf-fcb5df75d2b5",
   "metadata": {},
   "outputs": [
    {
     "name": "stdout",
     "output_type": "stream",
     "text": [
      "PIPELINE    ID                               STARTED        DURATION   RESTART PROGRESS  DL       UL       STATE   \n",
      "housing_eda e40d882420e94d2f8950ce1bda65c489 3 seconds ago  -          0       0 + 0 / 1 0B       0B       \u001b[33mrunning\u001b[0m \n",
      "housing_eda f78c9231a1f1405890e09f96bb15da9a 54 seconds ago 14 seconds 0       1 + 0 / 1 397.1KiB 3.082MiB \u001b[32msuccess\u001b[0m \n"
     ]
    }
   ],
   "source": [
    "!pachctl list jobs -p housing_eda"
   ]
  },
  {
   "cell_type": "code",
   "execution_count": 28,
   "id": "1bac7726-661d-4e83-a00a-bc165584e12b",
   "metadata": {},
   "outputs": [
    {
     "name": "stdout",
     "output_type": "stream",
     "text": [
      "NAME                                               TYPE SIZE     \n",
      "/features_4f86d687113ab5b0c3984dc49a27b8c0.parquet file 740.7KiB \n"
     ]
    }
   ],
   "source": [
    "!pachctl list file housing_extract_features@master"
   ]
  },
  {
   "cell_type": "code",
   "execution_count": 30,
   "id": "1f8cd216-fefe-434f-a7ec-ee8e27747b4e",
   "metadata": {},
   "outputs": [
    {
     "name": "stdout",
     "output_type": "stream",
     "text": [
      "NAME                                               TYPE SIZE     \n",
      "/features_4f86d687113ab5b0c3984dc49a27b8c0.parquet file 740.7KiB \n"
     ]
    }
   ],
   "source": [
    "!pachctl list file housing_extract_features@master"
   ]
  },
  {
   "cell_type": "code",
   "execution_count": 33,
   "id": "bcb903a3-ed62-45c0-9af2-4c2c1d7753ef",
   "metadata": {},
   "outputs": [],
   "source": [
    "!pachctl get file housing_extract_features@master --recursive --output ."
   ]
  },
  {
   "cell_type": "code",
   "execution_count": 34,
   "id": "abf74a39-a75f-4c68-8933-69f462244f95",
   "metadata": {},
   "outputs": [
    {
     "name": "stdout",
     "output_type": "stream",
     "text": [
      "20640\n"
     ]
    },
    {
     "data": {
      "text/html": [
       "<div>\n",
       "<style scoped>\n",
       "    .dataframe tbody tr th:only-of-type {\n",
       "        vertical-align: middle;\n",
       "    }\n",
       "\n",
       "    .dataframe tbody tr th {\n",
       "        vertical-align: top;\n",
       "    }\n",
       "\n",
       "    .dataframe thead th {\n",
       "        text-align: right;\n",
       "    }\n",
       "</style>\n",
       "<table border=\"1\" class=\"dataframe\">\n",
       "  <thead>\n",
       "    <tr style=\"text-align: right;\">\n",
       "      <th></th>\n",
       "      <th>MedInc</th>\n",
       "      <th>HouseAge</th>\n",
       "      <th>AveRooms</th>\n",
       "      <th>AveBedrms</th>\n",
       "      <th>Population</th>\n",
       "      <th>AveOccup</th>\n",
       "      <th>MedHouseVal</th>\n",
       "    </tr>\n",
       "  </thead>\n",
       "  <tbody>\n",
       "    <tr>\n",
       "      <th>0</th>\n",
       "      <td>2.4792</td>\n",
       "      <td>24.0</td>\n",
       "      <td>3.454704</td>\n",
       "      <td>1.134146</td>\n",
       "      <td>2251.0</td>\n",
       "      <td>3.921603</td>\n",
       "      <td>2.000</td>\n",
       "    </tr>\n",
       "    <tr>\n",
       "      <th>1</th>\n",
       "      <td>3.4630</td>\n",
       "      <td>8.0</td>\n",
       "      <td>6.363636</td>\n",
       "      <td>1.166297</td>\n",
       "      <td>1307.0</td>\n",
       "      <td>2.898004</td>\n",
       "      <td>2.017</td>\n",
       "    </tr>\n",
       "    <tr>\n",
       "      <th>2</th>\n",
       "      <td>3.7500</td>\n",
       "      <td>16.0</td>\n",
       "      <td>5.768719</td>\n",
       "      <td>1.023295</td>\n",
       "      <td>1478.0</td>\n",
       "      <td>2.459235</td>\n",
       "      <td>1.473</td>\n",
       "    </tr>\n",
       "    <tr>\n",
       "      <th>3</th>\n",
       "      <td>2.8542</td>\n",
       "      <td>34.0</td>\n",
       "      <td>3.858779</td>\n",
       "      <td>1.045802</td>\n",
       "      <td>1164.0</td>\n",
       "      <td>4.442748</td>\n",
       "      <td>1.469</td>\n",
       "    </tr>\n",
       "    <tr>\n",
       "      <th>4</th>\n",
       "      <td>1.3375</td>\n",
       "      <td>18.0</td>\n",
       "      <td>4.567625</td>\n",
       "      <td>1.087327</td>\n",
       "      <td>2707.0</td>\n",
       "      <td>2.882854</td>\n",
       "      <td>0.596</td>\n",
       "    </tr>\n",
       "  </tbody>\n",
       "</table>\n",
       "</div>"
      ],
      "text/plain": [
       "   MedInc  HouseAge  AveRooms  AveBedrms  Population  AveOccup  MedHouseVal\n",
       "0  2.4792      24.0  3.454704   1.134146      2251.0  3.921603        2.000\n",
       "1  3.4630       8.0  6.363636   1.166297      1307.0  2.898004        2.017\n",
       "2  3.7500      16.0  5.768719   1.023295      1478.0  2.459235        1.473\n",
       "3  2.8542      34.0  3.858779   1.045802      1164.0  4.442748        1.469\n",
       "4  1.3375      18.0  4.567625   1.087327      2707.0  2.882854        0.596"
      ]
     },
     "execution_count": 34,
     "metadata": {},
     "output_type": "execute_result"
    }
   ],
   "source": [
    "import pandas as pd\n",
    "data = pd.read_parquet('features_4f86d687113ab5b0c3984dc49a27b8c0.parquet')\n",
    "print(len(data))\n",
    "data.head()"
   ]
  },
  {
   "cell_type": "code",
   "execution_count": null,
   "id": "053d92ee-7a54-4516-99ea-e042d4cb9a3a",
   "metadata": {},
   "outputs": [],
   "source": []
  }
 ],
 "metadata": {
  "kernelspec": {
   "display_name": "Python 3 (ipykernel)",
   "language": "python",
   "name": "python3"
  },
  "language_info": {
   "codemirror_mode": {
    "name": "ipython",
    "version": 3
   },
   "file_extension": ".py",
   "mimetype": "text/x-python",
   "name": "python",
   "nbconvert_exporter": "python",
   "pygments_lexer": "ipython3",
   "version": "3.9.4"
  }
 },
 "nbformat": 4,
 "nbformat_minor": 5
}
