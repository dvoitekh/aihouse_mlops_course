{
 "cells": [
  {
   "cell_type": "code",
   "execution_count": 2,
   "id": "4ef49c81-883f-4e6f-965f-bf06ead227c6",
   "metadata": {},
   "outputs": [],
   "source": [
    "# !pip install -r requirements.txt"
   ]
  },
  {
   "cell_type": "code",
   "execution_count": 2,
   "id": "233edb45-cdc9-4f16-b588-243338b09b10",
   "metadata": {},
   "outputs": [],
   "source": [
    "!mkdir feature_store/data\n",
    "!cp ../../session3/data/house_dataset_main.parquet feature_store/data/\n",
    "!cp ../../session3/data/house_dataset_lat_lon.parquet feature_store/data/"
   ]
  },
  {
   "cell_type": "code",
   "execution_count": 3,
   "id": "cbac7850-8513-46dc-aa70-7e6e962e8fa7",
   "metadata": {},
   "outputs": [
    {
     "data": {
      "text/html": [
       "<div>\n",
       "<style scoped>\n",
       "    .dataframe tbody tr th:only-of-type {\n",
       "        vertical-align: middle;\n",
       "    }\n",
       "\n",
       "    .dataframe tbody tr th {\n",
       "        vertical-align: top;\n",
       "    }\n",
       "\n",
       "    .dataframe thead th {\n",
       "        text-align: right;\n",
       "    }\n",
       "</style>\n",
       "<table border=\"1\" class=\"dataframe\">\n",
       "  <thead>\n",
       "    <tr style=\"text-align: right;\">\n",
       "      <th></th>\n",
       "      <th>HouseId</th>\n",
       "      <th>MedInc</th>\n",
       "      <th>HouseAge</th>\n",
       "      <th>AveRooms</th>\n",
       "      <th>AveBedrms</th>\n",
       "      <th>Population</th>\n",
       "      <th>AveOccup</th>\n",
       "      <th>MedHouseVal</th>\n",
       "      <th>EventTimestamp</th>\n",
       "      <th>Created</th>\n",
       "    </tr>\n",
       "  </thead>\n",
       "  <tbody>\n",
       "    <tr>\n",
       "      <th>0</th>\n",
       "      <td>1</td>\n",
       "      <td>2.4792</td>\n",
       "      <td>24.0</td>\n",
       "      <td>3.454704</td>\n",
       "      <td>1.134146</td>\n",
       "      <td>2251.0</td>\n",
       "      <td>3.921603</td>\n",
       "      <td>2.000</td>\n",
       "      <td>2021-12-11 18:40:03</td>\n",
       "      <td>2022-04-12 12:04:13</td>\n",
       "    </tr>\n",
       "    <tr>\n",
       "      <th>1</th>\n",
       "      <td>2</td>\n",
       "      <td>3.4630</td>\n",
       "      <td>8.0</td>\n",
       "      <td>6.363636</td>\n",
       "      <td>1.166297</td>\n",
       "      <td>1307.0</td>\n",
       "      <td>2.898004</td>\n",
       "      <td>2.017</td>\n",
       "      <td>2021-12-11 18:57:30</td>\n",
       "      <td>2022-04-12 12:04:13</td>\n",
       "    </tr>\n",
       "  </tbody>\n",
       "</table>\n",
       "</div>"
      ],
      "text/plain": [
       "   HouseId  MedInc  HouseAge  AveRooms  AveBedrms  Population  AveOccup  \\\n",
       "0        1  2.4792      24.0  3.454704   1.134146      2251.0  3.921603   \n",
       "1        2  3.4630       8.0  6.363636   1.166297      1307.0  2.898004   \n",
       "\n",
       "   MedHouseVal      EventTimestamp             Created  \n",
       "0        2.000 2021-12-11 18:40:03 2022-04-12 12:04:13  \n",
       "1        2.017 2021-12-11 18:57:30 2022-04-12 12:04:13  "
      ]
     },
     "execution_count": 3,
     "metadata": {},
     "output_type": "execute_result"
    }
   ],
   "source": [
    "import pandas as pd\n",
    "pd.read_parquet('feature_store/data/house_dataset_main.parquet').head(2)"
   ]
  },
  {
   "cell_type": "code",
   "execution_count": 4,
   "id": "7e32bcc5-156a-44f4-8634-e62761697b68",
   "metadata": {},
   "outputs": [
    {
     "data": {
      "text/html": [
       "<div>\n",
       "<style scoped>\n",
       "    .dataframe tbody tr th:only-of-type {\n",
       "        vertical-align: middle;\n",
       "    }\n",
       "\n",
       "    .dataframe tbody tr th {\n",
       "        vertical-align: top;\n",
       "    }\n",
       "\n",
       "    .dataframe thead th {\n",
       "        text-align: right;\n",
       "    }\n",
       "</style>\n",
       "<table border=\"1\" class=\"dataframe\">\n",
       "  <thead>\n",
       "    <tr style=\"text-align: right;\">\n",
       "      <th></th>\n",
       "      <th>HouseId</th>\n",
       "      <th>Latitude</th>\n",
       "      <th>Longitude</th>\n",
       "      <th>EventTimestamp</th>\n",
       "      <th>Created</th>\n",
       "    </tr>\n",
       "  </thead>\n",
       "  <tbody>\n",
       "    <tr>\n",
       "      <th>0</th>\n",
       "      <td>1</td>\n",
       "      <td>34.18</td>\n",
       "      <td>-118.38</td>\n",
       "      <td>2021-12-11 18:40:03</td>\n",
       "      <td>2022-02-13 22:43:53</td>\n",
       "    </tr>\n",
       "    <tr>\n",
       "      <th>1</th>\n",
       "      <td>2</td>\n",
       "      <td>39.08</td>\n",
       "      <td>-121.04</td>\n",
       "      <td>2021-12-11 18:57:30</td>\n",
       "      <td>2022-02-13 22:43:53</td>\n",
       "    </tr>\n",
       "  </tbody>\n",
       "</table>\n",
       "</div>"
      ],
      "text/plain": [
       "   HouseId  Latitude  Longitude      EventTimestamp             Created\n",
       "0        1     34.18    -118.38 2021-12-11 18:40:03 2022-02-13 22:43:53\n",
       "1        2     39.08    -121.04 2021-12-11 18:57:30 2022-02-13 22:43:53"
      ]
     },
     "execution_count": 4,
     "metadata": {},
     "output_type": "execute_result"
    }
   ],
   "source": [
    "pd.read_parquet('feature_store/data/house_dataset_lat_lon.parquet').head(2)"
   ]
  },
  {
   "cell_type": "code",
   "execution_count": 5,
   "id": "6c8ad905-47cb-44d7-a354-7380da4276bf",
   "metadata": {},
   "outputs": [
    {
     "name": "stdout",
     "output_type": "stream",
     "text": [
      "/home/ubuntu/dvoitekh/aihouse_mlops_course/session4/feast/feature_store\n"
     ]
    }
   ],
   "source": [
    "cd feature_store"
   ]
  },
  {
   "cell_type": "code",
   "execution_count": 6,
   "id": "edc2145f-56c0-4c6e-868b-2130073878db",
   "metadata": {},
   "outputs": [
    {
     "name": "stdout",
     "output_type": "stream",
     "text": [
      "/home/ubuntu/.local/lib/python3.9/site-packages/scipy/__init__.py:146: UserWarning: A NumPy version >=1.16.5 and <1.23.0 is required for this version of SciPy (detected version 1.23.4\n",
      "  warnings.warn(f\"A NumPy version >={np_minversion} and <{np_maxversion}\"\n",
      "Usage: feast [OPTIONS] COMMAND [ARGS]...\n",
      "\n",
      "  Feast CLI\n",
      "\n",
      "  For more information, see our public docs at https://docs.feast.dev/\n",
      "\n",
      "  For any questions, you can reach us at https://slack.feast.dev/\n",
      "\n",
      "Options:\n",
      "  -c, --chdir TEXT           Switch to a different feature repository\n",
      "                             directory before executing the given subcommand.\n",
      "  --log-level TEXT           The logging level. One of DEBUG, INFO, WARNING,\n",
      "                             ERROR, and CRITICAL (case-insensitive).\n",
      "  --feature-store-yaml TEXT  Override the directory where the CLI should look\n",
      "                             for the feature_store.yaml file.\n",
      "  --help                     Show this message and exit.\n",
      "\n",
      "Commands:\n",
      "  apply                    Create or update a feature store deployment\n",
      "  data-sources             Access data sources\n",
      "  endpoint                 Display feature server endpoints\n",
      "  entities                 Access entities\n",
      "  feature-services         Access feature services\n",
      "  feature-views            Access feature views\n",
      "  init                     Create a new Feast repository\n",
      "  materialize              Run a (non-incremental) materialization job to...\n",
      "  materialize-incremental  Run an incremental materialization job to...\n",
      "  on-demand-feature-views  [Experimental] Access on demand feature views\n",
      "  plan                     Create or update a feature store deployment\n",
      "  registry-dump            Print contents of the metadata registry\n",
      "  repo-upgrade             Upgrade a feature repo in place.\n",
      "  serve                    Start a feature server locally on a given port.\n",
      "  serve_transformations    [Experimental] Start a feature consumption...\n",
      "  teardown                 Tear down deployed feature store infrastructure\n",
      "  ui                       Shows the Feast UI over the current directory\n",
      "  validate                 Perform validation of logged features...\n",
      "  version                  Display Feast SDK version\n"
     ]
    }
   ],
   "source": [
    "!feast --help"
   ]
  },
  {
   "cell_type": "code",
   "execution_count": 7,
   "id": "6b6e972b-f541-42d8-ad82-03b3664d79c1",
   "metadata": {},
   "outputs": [
    {
     "name": "stdout",
     "output_type": "stream",
     "text": [
      "/home/ubuntu/.local/lib/python3.9/site-packages/scipy/__init__.py:146: UserWarning: A NumPy version >=1.16.5 and <1.23.0 is required for this version of SciPy (detected version 1.23.4\n",
      "  warnings.warn(f\"A NumPy version >={np_minversion} and <{np_maxversion}\"\n",
      "/home/ubuntu/.local/lib/python3.9/site-packages/feast/repo_config.py:216: RuntimeWarning: `entity_key_serialization_version` is either not specified in the feature_store.yaml, or is specified to a value <= 1.This serialization version may cause errors when trying to write fields with the `Long` data type into the online store. Specifying `entity_key_serialization_version` to 2 is recommended for new projects. \n",
      "  warnings.warn(\n",
      "Created entity \u001b[1m\u001b[32mHouseId\u001b[0m\n",
      "Created feature view \u001b[1m\u001b[32mhouse_lat_lon_view\u001b[0m\n",
      "Created feature view \u001b[1m\u001b[32mhouse_main_view\u001b[0m\n",
      "Created feature service \u001b[1m\u001b[32mhouse_service\u001b[0m\n",
      "\n",
      "\u001b[1m\u001b[94mNo changes to infrastructure\n"
     ]
    }
   ],
   "source": [
    "!feast plan"
   ]
  },
  {
   "cell_type": "code",
   "execution_count": 8,
   "id": "6564050f-f621-4090-8cb0-a2c591121849",
   "metadata": {},
   "outputs": [
    {
     "name": "stdout",
     "output_type": "stream",
     "text": [
      "/home/ubuntu/.local/lib/python3.9/site-packages/scipy/__init__.py:146: UserWarning: A NumPy version >=1.16.5 and <1.23.0 is required for this version of SciPy (detected version 1.23.4\n",
      "  warnings.warn(f\"A NumPy version >={np_minversion} and <{np_maxversion}\"\n",
      "/home/ubuntu/.local/lib/python3.9/site-packages/feast/repo_config.py:216: RuntimeWarning: `entity_key_serialization_version` is either not specified in the feature_store.yaml, or is specified to a value <= 1.This serialization version may cause errors when trying to write fields with the `Long` data type into the online store. Specifying `entity_key_serialization_version` to 2 is recommended for new projects. \n",
      "  warnings.warn(\n",
      "Created entity \u001b[1m\u001b[32mHouseId\u001b[0m\n",
      "Created feature view \u001b[1m\u001b[32mhouse_main_view\u001b[0m\n",
      "Created feature view \u001b[1m\u001b[32mhouse_lat_lon_view\u001b[0m\n",
      "Created feature service \u001b[1m\u001b[32mhouse_service\u001b[0m\n",
      "\n",
      "Deploying infrastructure for \u001b[1m\u001b[32mhouse_main_view\u001b[0m\n",
      "Deploying infrastructure for \u001b[1m\u001b[32mhouse_lat_lon_view\u001b[0m\n"
     ]
    }
   ],
   "source": [
    "!feast apply"
   ]
  },
  {
   "cell_type": "code",
   "execution_count": 9,
   "id": "1e267bcb-a9e5-451a-abbe-fc3a9ae39635",
   "metadata": {},
   "outputs": [
    {
     "name": "stderr",
     "output_type": "stream",
     "text": [
      "/home/ubuntu/.local/lib/python3.9/site-packages/scipy/__init__.py:146: UserWarning: A NumPy version >=1.16.5 and <1.23.0 is required for this version of SciPy (detected version 1.23.4\n",
      "  warnings.warn(f\"A NumPy version >={np_minversion} and <{np_maxversion}\"\n",
      "/home/ubuntu/.local/lib/python3.9/site-packages/feast/repo_config.py:216: RuntimeWarning: `entity_key_serialization_version` is either not specified in the feature_store.yaml, or is specified to a value <= 1.This serialization version may cause errors when trying to write fields with the `Long` data type into the online store. Specifying `entity_key_serialization_version` to 2 is recommended for new projects. \n",
      "  warnings.warn(\n"
     ]
    }
   ],
   "source": [
    "import os\n",
    "from feast import FeatureStore\n",
    "\n",
    "store = FeatureStore(repo_path=\".\")"
   ]
  },
  {
   "cell_type": "code",
   "execution_count": 10,
   "id": "3fa7a322-cfb5-4943-a96a-c2df49b87f4e",
   "metadata": {},
   "outputs": [],
   "source": [
    "import feast\n",
    "import pandas as pd\n",
    "from feast.infra.offline_stores.file_source import SavedDatasetFileStorage\n",
    "\n",
    "entity_df = pd.DataFrame.from_dict({\"HouseId\": [i for i in range(1, 1000)]})\n",
    "entity_df['event_timestamp'] = pd.to_datetime('now', utc=True)\n",
    "\n",
    "retrieval_job = store.get_historical_features(\n",
    "    entity_df=entity_df,\n",
    "    features=store.get_feature_service('house_service')\n",
    ")"
   ]
  },
  {
   "cell_type": "code",
   "execution_count": 11,
   "id": "0cff1446-ca35-4491-87ba-eb394be7739c",
   "metadata": {},
   "outputs": [
    {
     "data": {
      "text/plain": [
       "['house_main_view:MedInc',\n",
       " 'house_main_view:HouseAge',\n",
       " 'house_main_view:AveRooms',\n",
       " 'house_main_view:AveBedrms',\n",
       " 'house_main_view:Population',\n",
       " 'house_main_view:AveOccup',\n",
       " 'house_main_view:MedHouseVal',\n",
       " 'house_lat_lon_view:Latitude',\n",
       " 'house_lat_lon_view:Longitude']"
      ]
     },
     "execution_count": 11,
     "metadata": {},
     "output_type": "execute_result"
    }
   ],
   "source": [
    "retrieval_job.metadata.features"
   ]
  },
  {
   "cell_type": "code",
   "execution_count": 12,
   "id": "1725b546-0994-4cfd-8ddd-4bcb378952cf",
   "metadata": {},
   "outputs": [
    {
     "name": "stderr",
     "output_type": "stream",
     "text": [
      "/home/ubuntu/.local/lib/python3.9/site-packages/feast/feature_store.py:1182: RuntimeWarning: Saving dataset is an experimental feature. This API is unstable and it could and most probably will be changed in the future. We do not guarantee that future changes will maintain backward compatibility.\n",
      "  warnings.warn(\n"
     ]
    },
    {
     "name": "stdout",
     "output_type": "stream",
     "text": [
      "999\n"
     ]
    },
    {
     "data": {
      "text/html": [
       "<div>\n",
       "<style scoped>\n",
       "    .dataframe tbody tr th:only-of-type {\n",
       "        vertical-align: middle;\n",
       "    }\n",
       "\n",
       "    .dataframe tbody tr th {\n",
       "        vertical-align: top;\n",
       "    }\n",
       "\n",
       "    .dataframe thead th {\n",
       "        text-align: right;\n",
       "    }\n",
       "</style>\n",
       "<table border=\"1\" class=\"dataframe\">\n",
       "  <thead>\n",
       "    <tr style=\"text-align: right;\">\n",
       "      <th></th>\n",
       "      <th>HouseId</th>\n",
       "      <th>event_timestamp</th>\n",
       "      <th>MedInc</th>\n",
       "      <th>HouseAge</th>\n",
       "      <th>AveRooms</th>\n",
       "      <th>AveBedrms</th>\n",
       "      <th>Population</th>\n",
       "      <th>AveOccup</th>\n",
       "      <th>MedHouseVal</th>\n",
       "      <th>Latitude</th>\n",
       "      <th>Longitude</th>\n",
       "    </tr>\n",
       "  </thead>\n",
       "  <tbody>\n",
       "    <tr>\n",
       "      <th>0</th>\n",
       "      <td>1</td>\n",
       "      <td>2022-10-26 21:25:57.755422+00:00</td>\n",
       "      <td>2.4792</td>\n",
       "      <td>24.0</td>\n",
       "      <td>3.454704</td>\n",
       "      <td>1.134146</td>\n",
       "      <td>2251.0</td>\n",
       "      <td>3.921603</td>\n",
       "      <td>2.000</td>\n",
       "      <td>34.18</td>\n",
       "      <td>-118.38</td>\n",
       "    </tr>\n",
       "    <tr>\n",
       "      <th>1</th>\n",
       "      <td>2</td>\n",
       "      <td>2022-10-26 21:25:57.755422+00:00</td>\n",
       "      <td>3.4630</td>\n",
       "      <td>8.0</td>\n",
       "      <td>6.363636</td>\n",
       "      <td>1.166297</td>\n",
       "      <td>1307.0</td>\n",
       "      <td>2.898004</td>\n",
       "      <td>2.017</td>\n",
       "      <td>39.08</td>\n",
       "      <td>-121.04</td>\n",
       "    </tr>\n",
       "    <tr>\n",
       "      <th>2</th>\n",
       "      <td>3</td>\n",
       "      <td>2022-10-26 21:25:57.755422+00:00</td>\n",
       "      <td>3.7500</td>\n",
       "      <td>16.0</td>\n",
       "      <td>5.768719</td>\n",
       "      <td>1.023295</td>\n",
       "      <td>1478.0</td>\n",
       "      <td>2.459235</td>\n",
       "      <td>1.473</td>\n",
       "      <td>38.68</td>\n",
       "      <td>-121.28</td>\n",
       "    </tr>\n",
       "    <tr>\n",
       "      <th>3</th>\n",
       "      <td>4</td>\n",
       "      <td>2022-10-26 21:25:57.755422+00:00</td>\n",
       "      <td>2.8542</td>\n",
       "      <td>34.0</td>\n",
       "      <td>3.858779</td>\n",
       "      <td>1.045802</td>\n",
       "      <td>1164.0</td>\n",
       "      <td>4.442748</td>\n",
       "      <td>1.469</td>\n",
       "      <td>34.04</td>\n",
       "      <td>-118.19</td>\n",
       "    </tr>\n",
       "    <tr>\n",
       "      <th>4</th>\n",
       "      <td>5</td>\n",
       "      <td>2022-10-26 21:25:57.755422+00:00</td>\n",
       "      <td>1.3375</td>\n",
       "      <td>18.0</td>\n",
       "      <td>4.567625</td>\n",
       "      <td>1.087327</td>\n",
       "      <td>2707.0</td>\n",
       "      <td>2.882854</td>\n",
       "      <td>0.596</td>\n",
       "      <td>39.13</td>\n",
       "      <td>-121.54</td>\n",
       "    </tr>\n",
       "  </tbody>\n",
       "</table>\n",
       "</div>"
      ],
      "text/plain": [
       "   HouseId                  event_timestamp  MedInc  HouseAge  AveRooms  \\\n",
       "0        1 2022-10-26 21:25:57.755422+00:00  2.4792      24.0  3.454704   \n",
       "1        2 2022-10-26 21:25:57.755422+00:00  3.4630       8.0  6.363636   \n",
       "2        3 2022-10-26 21:25:57.755422+00:00  3.7500      16.0  5.768719   \n",
       "3        4 2022-10-26 21:25:57.755422+00:00  2.8542      34.0  3.858779   \n",
       "4        5 2022-10-26 21:25:57.755422+00:00  1.3375      18.0  4.567625   \n",
       "\n",
       "   AveBedrms  Population  AveOccup  MedHouseVal  Latitude  Longitude  \n",
       "0   1.134146      2251.0  3.921603        2.000     34.18    -118.38  \n",
       "1   1.166297      1307.0  2.898004        2.017     39.08    -121.04  \n",
       "2   1.023295      1478.0  2.459235        1.473     38.68    -121.28  \n",
       "3   1.045802      1164.0  4.442748        1.469     34.04    -118.19  \n",
       "4   1.087327      2707.0  2.882854        0.596     39.13    -121.54  "
      ]
     },
     "execution_count": 12,
     "metadata": {},
     "output_type": "execute_result"
    }
   ],
   "source": [
    "dataset = store.create_saved_dataset(\n",
    "    from_=retrieval_job,\n",
    "    name='merged_dataset_v1',\n",
    "    storage=SavedDatasetFileStorage('merged_dataset_v1.parquet')\n",
    ")\n",
    "\n",
    "training_df = retrieval_job.to_df()\n",
    "print(len(training_df))\n",
    "training_df.head()"
   ]
  },
  {
   "cell_type": "code",
   "execution_count": 13,
   "id": "13afe657-2915-450f-bd2b-f2b7ebf6dfa2",
   "metadata": {},
   "outputs": [
    {
     "name": "stdout",
     "output_type": "stream",
     "text": [
      "/home/ubuntu/.local/lib/python3.9/site-packages/scipy/__init__.py:146: UserWarning: A NumPy version >=1.16.5 and <1.23.0 is required for this version of SciPy (detected version 1.23.4\n",
      "  warnings.warn(f\"A NumPy version >={np_minversion} and <{np_maxversion}\"\n",
      "/home/ubuntu/.local/lib/python3.9/site-packages/feast/repo_config.py:216: RuntimeWarning: `entity_key_serialization_version` is either not specified in the feature_store.yaml, or is specified to a value <= 1.This serialization version may cause errors when trying to write fields with the `Long` data type into the online store. Specifying `entity_key_serialization_version` to 2 is recommended for new projects. \n",
      "  warnings.warn(\n",
      "Materializing \u001b[1m\u001b[32m2\u001b[0m feature views to \u001b[1m\u001b[32m2022-02-01 00:00:00+00:00\u001b[0m into the \u001b[1m\u001b[32mredis\u001b[0m online store.\n",
      "\n",
      "Since the ttl is 0 for feature view \u001b[1m\u001b[32mhouse_main_view\u001b[0m, the start date will be set to 1 year before the current time.\n",
      "\u001b[1m\u001b[32mhouse_main_view\u001b[0m from \u001b[1m\u001b[32m2021-10-27 21:26:04+00:00\u001b[0m to \u001b[1m\u001b[32m2022-02-01 00:00:00+00:00\u001b[0m:\n",
      "100%|████████████████████████████████████████████████████████| 5821/5821 [00:00<00:00, 24597.33it/s]\n",
      "Since the ttl is 0 for feature view \u001b[1m\u001b[32mhouse_lat_lon_view\u001b[0m, the start date will be set to 1 year before the current time.\n",
      "\u001b[1m\u001b[32mhouse_lat_lon_view\u001b[0m from \u001b[1m\u001b[32m2021-10-27 21:26:04+00:00\u001b[0m to \u001b[1m\u001b[32m2022-02-01 00:00:00+00:00\u001b[0m:\n",
      "100%|████████████████████████████████████████████████████████| 5821/5821 [00:00<00:00, 42023.39it/s]\n"
     ]
    }
   ],
   "source": [
    "!feast materialize-incremental 2022-02-01T00:00:00"
   ]
  },
  {
   "cell_type": "code",
   "execution_count": 14,
   "id": "9057fb2c-994a-446f-a07e-55b5768f27f9",
   "metadata": {},
   "outputs": [
    {
     "data": {
      "text/html": [
       "<div>\n",
       "<style scoped>\n",
       "    .dataframe tbody tr th:only-of-type {\n",
       "        vertical-align: middle;\n",
       "    }\n",
       "\n",
       "    .dataframe tbody tr th {\n",
       "        vertical-align: top;\n",
       "    }\n",
       "\n",
       "    .dataframe thead th {\n",
       "        text-align: right;\n",
       "    }\n",
       "</style>\n",
       "<table border=\"1\" class=\"dataframe\">\n",
       "  <thead>\n",
       "    <tr style=\"text-align: right;\">\n",
       "      <th></th>\n",
       "      <th>HouseId</th>\n",
       "      <th>HouseAge</th>\n",
       "      <th>MedHouseVal</th>\n",
       "      <th>MedInc</th>\n",
       "      <th>Latitude</th>\n",
       "      <th>Longitude</th>\n",
       "    </tr>\n",
       "  </thead>\n",
       "  <tbody>\n",
       "    <tr>\n",
       "      <th>0</th>\n",
       "      <td>1</td>\n",
       "      <td>24.0</td>\n",
       "      <td>2.000</td>\n",
       "      <td>2.4792</td>\n",
       "      <td>34.180000</td>\n",
       "      <td>-118.379997</td>\n",
       "    </tr>\n",
       "    <tr>\n",
       "      <th>1</th>\n",
       "      <td>20640</td>\n",
       "      <td>13.0</td>\n",
       "      <td>3.333</td>\n",
       "      <td>3.3438</td>\n",
       "      <td>33.689999</td>\n",
       "      <td>-117.800003</td>\n",
       "    </tr>\n",
       "  </tbody>\n",
       "</table>\n",
       "</div>"
      ],
      "text/plain": [
       "   HouseId  HouseAge  MedHouseVal  MedInc   Latitude   Longitude\n",
       "0        1      24.0        2.000  2.4792  34.180000 -118.379997\n",
       "1    20640      13.0        3.333  3.3438  33.689999 -117.800003"
      ]
     },
     "execution_count": 14,
     "metadata": {},
     "output_type": "execute_result"
    }
   ],
   "source": [
    "online_df = store.get_online_features(\n",
    "    features=[\n",
    "        \"house_main_view:MedInc\",\n",
    "        \"house_main_view:HouseAge\",\n",
    "        \"house_main_view:MedHouseVal\",\n",
    "        \"house_lat_lon_view:Latitude\",\n",
    "        \"house_lat_lon_view:Longitude\",\n",
    "    ],\n",
    "    entity_rows=[\n",
    "        {\"HouseId\": 1},\n",
    "        {\"HouseId\": 20640},\n",
    "    ]\n",
    ")\n",
    "online_df.to_df()"
   ]
  },
  {
   "cell_type": "code",
   "execution_count": 15,
   "id": "e26abd99-edce-4a78-86aa-ed75a11b5e55",
   "metadata": {},
   "outputs": [
    {
     "name": "stdout",
     "output_type": "stream",
     "text": [
      "/home/ubuntu/.local/lib/python3.9/site-packages/scipy/__init__.py:146: UserWarning: A NumPy version >=1.16.5 and <1.23.0 is required for this version of SciPy (detected version 1.23.4\n",
      "  warnings.warn(f\"A NumPy version >={np_minversion} and <{np_maxversion}\"\n",
      "/home/ubuntu/.local/lib/python3.9/site-packages/feast/repo_config.py:216: RuntimeWarning: `entity_key_serialization_version` is either not specified in the feature_store.yaml, or is specified to a value <= 1.This serialization version may cause errors when trying to write fields with the `Long` data type into the online store. Specifying `entity_key_serialization_version` to 2 is recommended for new projects. \n",
      "  warnings.warn(\n",
      "Materializing \u001b[1m\u001b[32m2\u001b[0m feature views to \u001b[1m\u001b[32m2022-06-11 00:00:00+00:00\u001b[0m into the \u001b[1m\u001b[32mredis\u001b[0m online store.\n",
      "\n",
      "\u001b[1m\u001b[32mhouse_main_view\u001b[0m from \u001b[1m\u001b[32m2022-02-01 00:00:00+00:00\u001b[0m to \u001b[1m\u001b[32m2022-06-11 00:00:00+00:00\u001b[0m:\n",
      "100%|██████████████████████████████████████████████████████| 14819/14819 [00:00<00:00, 25447.79it/s]\n",
      "\u001b[1m\u001b[32mhouse_lat_lon_view\u001b[0m from \u001b[1m\u001b[32m2022-02-01 00:00:00+00:00\u001b[0m to \u001b[1m\u001b[32m2022-06-11 00:00:00+00:00\u001b[0m:\n",
      "100%|██████████████████████████████████████████████████████| 14819/14819 [00:00<00:00, 33341.71it/s]\n"
     ]
    }
   ],
   "source": [
    "!feast materialize-incremental 2022-06-11T00:00:00"
   ]
  },
  {
   "cell_type": "code",
   "execution_count": 16,
   "id": "61f1fa7a-3410-445c-aef7-fcf0b8916f58",
   "metadata": {},
   "outputs": [
    {
     "data": {
      "text/html": [
       "<div>\n",
       "<style scoped>\n",
       "    .dataframe tbody tr th:only-of-type {\n",
       "        vertical-align: middle;\n",
       "    }\n",
       "\n",
       "    .dataframe tbody tr th {\n",
       "        vertical-align: top;\n",
       "    }\n",
       "\n",
       "    .dataframe thead th {\n",
       "        text-align: right;\n",
       "    }\n",
       "</style>\n",
       "<table border=\"1\" class=\"dataframe\">\n",
       "  <thead>\n",
       "    <tr style=\"text-align: right;\">\n",
       "      <th></th>\n",
       "      <th>HouseId</th>\n",
       "      <th>HouseAge</th>\n",
       "      <th>MedHouseVal</th>\n",
       "      <th>MedInc</th>\n",
       "      <th>Latitude</th>\n",
       "      <th>Longitude</th>\n",
       "    </tr>\n",
       "  </thead>\n",
       "  <tbody>\n",
       "    <tr>\n",
       "      <th>0</th>\n",
       "      <td>1</td>\n",
       "      <td>24.0</td>\n",
       "      <td>2.000</td>\n",
       "      <td>2.4792</td>\n",
       "      <td>34.180000</td>\n",
       "      <td>-118.379997</td>\n",
       "    </tr>\n",
       "    <tr>\n",
       "      <th>1</th>\n",
       "      <td>20640</td>\n",
       "      <td>13.0</td>\n",
       "      <td>3.333</td>\n",
       "      <td>3.3438</td>\n",
       "      <td>33.689999</td>\n",
       "      <td>-117.800003</td>\n",
       "    </tr>\n",
       "  </tbody>\n",
       "</table>\n",
       "</div>"
      ],
      "text/plain": [
       "   HouseId  HouseAge  MedHouseVal  MedInc   Latitude   Longitude\n",
       "0        1      24.0        2.000  2.4792  34.180000 -118.379997\n",
       "1    20640      13.0        3.333  3.3438  33.689999 -117.800003"
      ]
     },
     "execution_count": 16,
     "metadata": {},
     "output_type": "execute_result"
    }
   ],
   "source": [
    "online_df = store.get_online_features(\n",
    "    features=[\n",
    "        \"house_main_view:MedInc\",\n",
    "        \"house_main_view:HouseAge\",\n",
    "        \"house_main_view:MedHouseVal\",\n",
    "        \"house_lat_lon_view:Latitude\",\n",
    "        \"house_lat_lon_view:Longitude\",\n",
    "    ],\n",
    "    entity_rows=[\n",
    "        {\"HouseId\": 1},\n",
    "        {\"HouseId\": 20640},\n",
    "    ]\n",
    ")\n",
    "online_df.to_df()"
   ]
  },
  {
   "cell_type": "code",
   "execution_count": 17,
   "id": "b0b1fcb6-b305-414a-93be-95bd3c1333ca",
   "metadata": {},
   "outputs": [],
   "source": [
    "import datetime\n",
    "\n",
    "store.push('main_push_source', pd.DataFrame([{\n",
    "    'HouseId': 1,\n",
    "    'MedInc': 1.0,\n",
    "    'HouseAge': 1.0,\n",
    "    'AveRooms': 1.0,\n",
    "    'AveBedrms': 1.0,\n",
    "    'Population': 1.0,\n",
    "    'AveOccup': 1.0,\n",
    "    'MedHouseVal': 1.0,\n",
    "    'Latitude': 1.0,\n",
    "    'Longitude': 1.0,\n",
    "    'EventTimestamp': datetime.datetime.now(),\n",
    "    'Created': datetime.datetime.now(),\n",
    "}]))"
   ]
  },
  {
   "cell_type": "code",
   "execution_count": 18,
   "id": "28e907c1-b0ed-4f1c-92c1-f491e4f10de8",
   "metadata": {},
   "outputs": [
    {
     "data": {
      "text/html": [
       "<div>\n",
       "<style scoped>\n",
       "    .dataframe tbody tr th:only-of-type {\n",
       "        vertical-align: middle;\n",
       "    }\n",
       "\n",
       "    .dataframe tbody tr th {\n",
       "        vertical-align: top;\n",
       "    }\n",
       "\n",
       "    .dataframe thead th {\n",
       "        text-align: right;\n",
       "    }\n",
       "</style>\n",
       "<table border=\"1\" class=\"dataframe\">\n",
       "  <thead>\n",
       "    <tr style=\"text-align: right;\">\n",
       "      <th></th>\n",
       "      <th>HouseId</th>\n",
       "      <th>HouseAge</th>\n",
       "      <th>MedHouseVal</th>\n",
       "      <th>MedInc</th>\n",
       "      <th>Latitude</th>\n",
       "      <th>Longitude</th>\n",
       "    </tr>\n",
       "  </thead>\n",
       "  <tbody>\n",
       "    <tr>\n",
       "      <th>0</th>\n",
       "      <td>1</td>\n",
       "      <td>1.0</td>\n",
       "      <td>1.000</td>\n",
       "      <td>1.0000</td>\n",
       "      <td>34.180000</td>\n",
       "      <td>-118.379997</td>\n",
       "    </tr>\n",
       "    <tr>\n",
       "      <th>1</th>\n",
       "      <td>20640</td>\n",
       "      <td>13.0</td>\n",
       "      <td>3.333</td>\n",
       "      <td>3.3438</td>\n",
       "      <td>33.689999</td>\n",
       "      <td>-117.800003</td>\n",
       "    </tr>\n",
       "  </tbody>\n",
       "</table>\n",
       "</div>"
      ],
      "text/plain": [
       "   HouseId  HouseAge  MedHouseVal  MedInc   Latitude   Longitude\n",
       "0        1       1.0        1.000  1.0000  34.180000 -118.379997\n",
       "1    20640      13.0        3.333  3.3438  33.689999 -117.800003"
      ]
     },
     "execution_count": 18,
     "metadata": {},
     "output_type": "execute_result"
    }
   ],
   "source": [
    "online_df = store.get_online_features(\n",
    "    features=[\n",
    "        \"house_main_view:MedInc\",\n",
    "        \"house_main_view:HouseAge\",\n",
    "        \"house_main_view:MedHouseVal\",\n",
    "        \"house_lat_lon_view:Latitude\",\n",
    "        \"house_lat_lon_view:Longitude\",\n",
    "    ],\n",
    "    entity_rows=[\n",
    "        {\"HouseId\": 1},\n",
    "        {\"HouseId\": 20640},\n",
    "    ]\n",
    ")\n",
    "online_df.to_df()"
   ]
  },
  {
   "cell_type": "code",
   "execution_count": 19,
   "id": "1c66ec2d-8632-48e4-8730-6636c8c92c43",
   "metadata": {},
   "outputs": [
    {
     "data": {
      "text/html": [
       "<div>\n",
       "<style scoped>\n",
       "    .dataframe tbody tr th:only-of-type {\n",
       "        vertical-align: middle;\n",
       "    }\n",
       "\n",
       "    .dataframe tbody tr th {\n",
       "        vertical-align: top;\n",
       "    }\n",
       "\n",
       "    .dataframe thead th {\n",
       "        text-align: right;\n",
       "    }\n",
       "</style>\n",
       "<table border=\"1\" class=\"dataframe\">\n",
       "  <thead>\n",
       "    <tr style=\"text-align: right;\">\n",
       "      <th></th>\n",
       "      <th>HouseId</th>\n",
       "      <th>event_timestamp</th>\n",
       "      <th>MedInc</th>\n",
       "      <th>HouseAge</th>\n",
       "      <th>AveRooms</th>\n",
       "      <th>AveBedrms</th>\n",
       "      <th>Population</th>\n",
       "      <th>AveOccup</th>\n",
       "      <th>MedHouseVal</th>\n",
       "      <th>Latitude</th>\n",
       "      <th>Longitude</th>\n",
       "    </tr>\n",
       "  </thead>\n",
       "  <tbody>\n",
       "    <tr>\n",
       "      <th>0</th>\n",
       "      <td>1</td>\n",
       "      <td>2022-10-26 21:26:36.184565+00:00</td>\n",
       "      <td>2.4792</td>\n",
       "      <td>24.0</td>\n",
       "      <td>3.454704</td>\n",
       "      <td>1.134146</td>\n",
       "      <td>2251.0</td>\n",
       "      <td>3.921603</td>\n",
       "      <td>2.0</td>\n",
       "      <td>34.18</td>\n",
       "      <td>-118.38</td>\n",
       "    </tr>\n",
       "  </tbody>\n",
       "</table>\n",
       "</div>"
      ],
      "text/plain": [
       "   HouseId                  event_timestamp  MedInc  HouseAge  AveRooms  \\\n",
       "0        1 2022-10-26 21:26:36.184565+00:00  2.4792      24.0  3.454704   \n",
       "\n",
       "   AveBedrms  Population  AveOccup  MedHouseVal  Latitude  Longitude  \n",
       "0   1.134146      2251.0  3.921603          2.0     34.18    -118.38  "
      ]
     },
     "execution_count": 19,
     "metadata": {},
     "output_type": "execute_result"
    }
   ],
   "source": [
    "entity_df = pd.DataFrame.from_dict({\"HouseId\": [1]})\n",
    "entity_df['event_timestamp'] = pd.to_datetime('now', utc=True)\n",
    "\n",
    "store.get_historical_features(\n",
    "    entity_df=entity_df,\n",
    "    features=store.get_feature_service('house_service')\n",
    ").to_df()"
   ]
  },
  {
   "cell_type": "code",
   "execution_count": 20,
   "id": "dfbf89ac-9860-4a3e-be71-1af1c2cc63bf",
   "metadata": {},
   "outputs": [
    {
     "name": "stdout",
     "output_type": "stream",
     "text": [
      "# Keyspace\n",
      "db0:keys=20641,expires=0,avg_ttl=0\n"
     ]
    }
   ],
   "source": [
    "!redis-cli INFO Keyspace"
   ]
  },
  {
   "cell_type": "markdown",
   "id": "880816c3-7c19-4ff4-9f89-c4039a309db2",
   "metadata": {},
   "source": [
    "Also, we can run Feast UI to track features and datasets"
   ]
  },
  {
   "cell_type": "code",
   "execution_count": null,
   "id": "f06fbc92-a002-4b37-bb14-c8c1a16fff3a",
   "metadata": {},
   "outputs": [],
   "source": []
  }
 ],
 "metadata": {
  "kernelspec": {
   "display_name": "Python 3 (ipykernel)",
   "language": "python",
   "name": "python3"
  },
  "language_info": {
   "codemirror_mode": {
    "name": "ipython",
    "version": 3
   },
   "file_extension": ".py",
   "mimetype": "text/x-python",
   "name": "python",
   "nbconvert_exporter": "python",
   "pygments_lexer": "ipython3",
   "version": "3.9.4"
  }
 },
 "nbformat": 4,
 "nbformat_minor": 5
}
